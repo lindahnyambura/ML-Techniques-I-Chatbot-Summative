{
  "nbformat": 4,
  "nbformat_minor": 0,
  "metadata": {
    "colab": {
      "provenance": []
    },
    "kernelspec": {
      "name": "python3",
      "display_name": "Python 3"
    },
    "language_info": {
      "name": "python"
    }
  },
  "cells": [
    {
      "cell_type": "markdown",
      "source": [
        "#### **Imports**"
      ],
      "metadata": {
        "id": "blle_9aIKcSR"
      }
    },
    {
      "cell_type": "code",
      "execution_count": null,
      "metadata": {
        "id": "VKIUnY3ouS4W"
      },
      "outputs": [],
      "source": [
        "import pandas as pd\n",
        "import matplotlib.pyplot as plt\n",
        "import seaborn as sns\n",
        "import re"
      ]
    },
    {
      "cell_type": "code",
      "source": [
        "# Load the data\n",
        "df = pd.read_csv('/content/qa_pairs_kimathi.csv')"
      ],
      "metadata": {
        "id": "9WJuFnaVKtm3"
      },
      "execution_count": null,
      "outputs": []
    },
    {
      "cell_type": "code",
      "source": [
        "print(df.head())"
      ],
      "metadata": {
        "colab": {
          "base_uri": "https://localhost:8080/"
        },
        "id": "6yKRH6PtK8Kb",
        "outputId": "7a52205d-5a30-4aab-a445-0ae0738e26c5"
      },
      "execution_count": null,
      "outputs": [
        {
          "output_type": "stream",
          "name": "stdout",
          "text": [
            "                                            Question  \\\n",
            "0  What plea did Dedan Kimathi give in response t...   \n",
            "1           Who presided over Dedan Kimathi’s trial?   \n",
            "2  What was Count 1 against Kimathi and under whi...   \n",
            "3  What reason did Kimathi give for possessing am...   \n",
            "4  Who were the assessors selected for Kimathi’s ...   \n",
            "\n",
            "                                              Answer       Source Type  \\\n",
            "0  Kimathi pleaded that he had the firearm becaus...  MacArthur (2017)   \n",
            "1  Chief Justice Sir Kenneth Kennedy O’Connor pre...  MacArthur (2017)   \n",
            "2  Count 1 was unlawful possession of a firearm u...  MacArthur (2017)   \n",
            "3  He said, like the firearm, he had the ammuniti...  MacArthur (2017)   \n",
            "4  Tumuti s/o Gakere, Nderitu s/o Muteru, and Kib...  MacArthur (2017)   \n",
            "\n",
            "                      Source File       Section ID          Theme  \n",
            "0  dedan_kimathi_on_trial_cleaned  section_066.txt  Kimathi Voice  \n",
            "1  dedan_kimathi_on_trial_cleaned  section_066.txt          Legal  \n",
            "2  dedan_kimathi_on_trial_cleaned  section_067.txt          Legal  \n",
            "3  dedan_kimathi_on_trial_cleaned  section_067.txt  Kimathi Voice  \n",
            "4  dedan_kimathi_on_trial_cleaned  section_067.txt        Factual  \n"
          ]
        }
      ]
    },
    {
      "cell_type": "code",
      "source": [
        "print(df.info())"
      ],
      "metadata": {
        "colab": {
          "base_uri": "https://localhost:8080/"
        },
        "id": "s9swEYxYLF-N",
        "outputId": "a4fe65b3-602c-47d4-8f2a-f3a27cb6b52d"
      },
      "execution_count": null,
      "outputs": [
        {
          "output_type": "stream",
          "name": "stdout",
          "text": [
            "<class 'pandas.core.frame.DataFrame'>\n",
            "RangeIndex: 342 entries, 0 to 341\n",
            "Data columns (total 6 columns):\n",
            " #   Column       Non-Null Count  Dtype \n",
            "---  ------       --------------  ----- \n",
            " 0   Question     342 non-null    object\n",
            " 1   Answer       342 non-null    object\n",
            " 2   Source Type  342 non-null    object\n",
            " 3   Source File  342 non-null    object\n",
            " 4   Section ID   317 non-null    object\n",
            " 5   Theme        317 non-null    object\n",
            "dtypes: object(6)\n",
            "memory usage: 16.2+ KB\n",
            "None\n"
          ]
        }
      ]
    },
    {
      "cell_type": "code",
      "source": [
        "# Source type distribution\n",
        "df[\"Source Type\"].value_counts().plot(kind=\"pie\", autopct=\"%1.1f%%\", title=\"Source Distribution\")\n",
        "plt.ylabel(\"\")\n",
        "plt.show()"
      ],
      "metadata": {
        "colab": {
          "base_uri": "https://localhost:8080/",
          "height": 428
        },
        "id": "SQ_4pwdwLG4t",
        "outputId": "fbf38958-f62e-4ccd-fd5b-8284a8926412"
      },
      "execution_count": null,
      "outputs": [
        {
          "output_type": "display_data",
          "data": {
            "text/plain": [
              "<Figure size 640x480 with 1 Axes>"
            ],
            "image/png": "[encoded data removed]"
          },
          "metadata": {}
        }
      ]
    },
    {
      "cell_type": "code",
      "source": [
        "# Question length\n",
        "df[\"q_len\"] = df[\"Question\"].apply(lambda x: len(str(x).split()))\n",
        "df[\"a_len\"] = df[\"Answer\"].apply(lambda x: len(str(x).split()))\n",
        "\n",
        "# Histograms of lengths\n",
        "fig, ax = plt.subplots(1, 2, figsize=(14, 5))\n",
        "sns.histplot(df[\"q_len\"], bins=20, ax=ax[0])\n",
        "ax[0].set_title(\"Question Lengths (words)\")\n",
        "sns.histplot(df[\"a_len\"], bins=20, ax=ax[1])\n",
        "ax[1].set_title(\"Answer Lengths (words)\")\n",
        "plt.show()"
      ],
      "metadata": {
        "colab": {
          "base_uri": "https://localhost:8080/",
          "height": 487
        },
        "id": "LZNlgsrMLWg8",
        "outputId": "119fdd8a-39a4-4389-b0de-c105c0246658"
      },
      "execution_count": null,
      "outputs": [
        {
          "output_type": "display_data",
          "data": {
            "text/plain": [
              "<Figure size 1400x500 with 2 Axes>"
            ],
            "image/png": "[encoded data removed]"
          },
          "metadata": {}
        }
      ]
    },
    {
      "cell_type": "code",
      "source": [
        "# Quick summary stats\n",
        "print(\"Q length stats:\")\n",
        "print(df[\"q_len\"].describe())\n",
        "print(\"\\nA length stats:\")\n",
        "print(df[\"a_len\"].describe())\n",
        "\n",
        "# Look at 95th percentile\n",
        "print(\"95th percentile Q length:\", df[\"q_len\"].quantile(0.95))\n",
        "print(\"95th percentile A length:\", df[\"a_len\"].quantile(0.95))\n"
      ],
      "metadata": {
        "id": "t1GNLrpkdIW1",
        "outputId": "dd7a9b8b-bb7c-495a-c49a-825b6a62d190",
        "colab": {
          "base_uri": "https://localhost:8080/"
        }
      },
      "execution_count": null,
      "outputs": [
        {
          "output_type": "stream",
          "name": "stdout",
          "text": [
            "Q length stats:\n",
            "count    342.000000\n",
            "mean      13.403509\n",
            "std        3.548704\n",
            "min        4.000000\n",
            "25%       11.000000\n",
            "50%       13.000000\n",
            "75%       15.000000\n",
            "max       25.000000\n",
            "Name: q_len, dtype: float64\n",
            "\n",
            "A length stats:\n",
            "count    342.000000\n",
            "mean      32.859649\n",
            "std       14.851293\n",
            "min        8.000000\n",
            "25%       21.250000\n",
            "50%       30.000000\n",
            "75%       43.000000\n",
            "max       87.000000\n",
            "Name: a_len, dtype: float64\n",
            "95th percentile Q length: 20.0\n",
            "95th percentile A length: 57.94999999999999\n"
          ]
        }
      ]
    },
    {
      "cell_type": "code",
      "source": [
        "# Most common first words in questions\n",
        "df[\"first_word\"] = df[\"Question\"].apply(lambda x: str(x).split()[0])\n",
        "print(df[\"first_word\"].value_counts().head(10))"
      ],
      "metadata": {
        "colab": {
          "base_uri": "https://localhost:8080/"
        },
        "id": "aWfVSXrxLzfM",
        "outputId": "f13456bb-9438-468d-8434-d8535996a9bd"
      },
      "execution_count": null,
      "outputs": [
        {
          "output_type": "stream",
          "name": "stdout",
          "text": [
            "first_word\n",
            "What        181\n",
            "How          76\n",
            "Who          27\n",
            "Why          15\n",
            "Did           8\n",
            "When          7\n",
            "Was           6\n",
            "Describe      6\n",
            "Which         4\n",
            "In            3\n",
            "Name: count, dtype: int64\n"
          ]
        }
      ]
    },
    {
      "cell_type": "code",
      "source": [
        "# Most common first words in answers\n",
        "df[\"first_word\"] = df[\"Answer\"].apply(lambda x: str(x).split()[0])\n",
        "print(df[\"first_word\"].value_counts().head(10))\n"
      ],
      "metadata": {
        "colab": {
          "base_uri": "https://localhost:8080/"
        },
        "id": "S38mQHm6Nb6a",
        "outputId": "657ea768-64d3-43ca-d753-b1a836f0c0d4"
      },
      "execution_count": null,
      "outputs": [
        {
          "output_type": "stream",
          "name": "stdout",
          "text": [
            "first_word\n",
            "The        110\n",
            "He          55\n",
            "Kimathi     36\n",
            "They        12\n",
            "His         11\n",
            "A            7\n",
            "Dr.          6\n",
            "She          5\n",
            "Dedan        5\n",
            "Yes.         5\n",
            "Name: count, dtype: int64\n"
          ]
        }
      ]
    },
    {
      "cell_type": "markdown",
      "source": [
        "### **Preprocessing**"
      ],
      "metadata": {
        "id": "eRizjF1JFOiR"
      }
    },
    {
      "cell_type": "code",
      "source": [
        "def clean_text(text):\n",
        "    # Normalize whitespace\n",
        "    text = text.strip()\n",
        "    text = re.sub(r\"\\s+\", \" \", text)\n",
        "\n",
        "    # Normalize em-dashes and quotes\n",
        "    text = text.replace(\"—\", \"-\")\n",
        "    text = text.replace(\"“\", '\"').replace(\"”\", '\"').replace(\"’\", \"'\")\n",
        "\n",
        "    # Remove odd characters (just in case)\n",
        "    text = re.sub(r\"[^\\x00-\\x7F]+\", \"\", text)\n",
        "\n",
        "    # Normalize ellipses\n",
        "    text = re.sub(r\"\\.\\.+\", \"...\", text)\n",
        "\n",
        "    return text\n"
      ],
      "metadata": {
        "id": "y4xKApM-WR4e"
      },
      "execution_count": null,
      "outputs": []
    },
    {
      "cell_type": "code",
      "source": [
        "df[\"Question\"] = df[\"Question\"].apply(clean_text)\n",
        "df[\"Answer\"] = df[\"Answer\"].apply(clean_text)\n",
        "\n",
        "df[\"input_text\"] = \"question: \" + df[\"Question\"]\n",
        "df[\"target_text\"] = df[\"Answer\"]"
      ],
      "metadata": {
        "id": "Lv7bsNPaWwiZ"
      },
      "execution_count": null,
      "outputs": []
    },
    {
      "cell_type": "code",
      "source": [
        "# Save for model training\n",
        "df[[\"input_text\", \"target_text\"]].to_csv(\"kimathi_qa_text2text.csv\", index=False)\n",
        "print(\"Preprocessing complete and saved to kimathi_qa_text2text.csv\")"
      ],
      "metadata": {
        "colab": {
          "base_uri": "https://localhost:8080/"
        },
        "id": "CAEurOSbW7D8",
        "outputId": "55a16ca0-cf75-414b-e419-8e52569a16b5"
      },
      "execution_count": null,
      "outputs": [
        {
          "output_type": "stream",
          "name": "stdout",
          "text": [
            "Preprocessing complete and saved to kimathi_qa_text2text.csv\n"
          ]
        }
      ]
    },
    {
      "cell_type": "code",
      "source": [
        "qa_df=pd.read_csv('/content/kimathi_qa_text2text.csv')\n",
        "qa_df.head()"
      ],
      "metadata": {
        "colab": {
          "base_uri": "https://localhost:8080/",
          "height": 206
        },
        "id": "2ZzokBUjXVQJ",
        "outputId": "440ae792-cd11-42bf-e49e-a480ab233e9e"
      },
      "execution_count": null,
      "outputs": [
        {
          "output_type": "execute_result",
          "data": {
            "text/plain": [
              "                                          input_text  \\\n",
              "0  question: What plea did Dedan Kimathi give in ...   \n",
              "1  question: Who presided over Dedan Kimathi's tr...   \n",
              "2  question: What was Count 1 against Kimathi and...   \n",
              "3  question: What reason did Kimathi give for pos...   \n",
              "4  question: Who were the assessors selected for ...   \n",
              "\n",
              "                                         target_text  \n",
              "0  Kimathi pleaded that he had the firearm becaus...  \n",
              "1  Chief Justice Sir Kenneth Kennedy O'Connor pre...  \n",
              "2  Count 1 was unlawful possession of a firearm u...  \n",
              "3  He said, like the firearm, he had the ammuniti...  \n",
              "4  Tumuti s/o Gakere, Nderitu s/o Muteru, and Kib...  "
            ],
            "text/html": [
              "\n",
              "  <div id=\"df-d7e46f06-2b7f-45ee-89cd-a47b13331d5a\" class=\"colab-df-container\">\n",
              "    <div>\n",
              "<style scoped>\n",
              "    .dataframe tbody tr th:only-of-type {\n",
              "        vertical-align: middle;\n",
              "    }\n",
              "\n",
              "    .dataframe tbody tr th {\n",
              "        vertical-align: top;\n",
              "    }\n",
              "\n",
              "    .dataframe thead th {\n",
              "        text-align: right;\n",
              "    }\n",
              "</style>\n",
              "<table border=\"1\" class=\"dataframe\">\n",
              "  <thead>\n",
              "    <tr style=\"text-align: right;\">\n",
              "      <th></th>\n",
              "      <th>input_text</th>\n",
              "      <th>target_text</th>\n",
              "    </tr>\n",
              "  </thead>\n",
              "  <tbody>\n",
              "    <tr>\n",
              "      <th>0</th>\n",
              "      <td>question: What plea did Dedan Kimathi give in ...</td>\n",
              "      <td>Kimathi pleaded that he had the firearm becaus...</td>\n",
              "    </tr>\n",
              "    <tr>\n",
              "      <th>1</th>\n",
              "      <td>question: Who presided over Dedan Kimathi's tr...</td>\n",
              "      <td>Chief Justice Sir Kenneth Kennedy O'Connor pre...</td>\n",
              "    </tr>\n",
              "    <tr>\n",
              "      <th>2</th>\n",
              "      <td>question: What was Count 1 against Kimathi and...</td>\n",
              "      <td>Count 1 was unlawful possession of a firearm u...</td>\n",
              "    </tr>\n",
              "    <tr>\n",
              "      <th>3</th>\n",
              "      <td>question: What reason did Kimathi give for pos...</td>\n",
              "      <td>He said, like the firearm, he had the ammuniti...</td>\n",
              "    </tr>\n",
              "    <tr>\n",
              "      <th>4</th>\n",
              "      <td>question: Who were the assessors selected for ...</td>\n",
              "      <td>Tumuti s/o Gakere, Nderitu s/o Muteru, and Kib...</td>\n",
              "    </tr>\n",
              "  </tbody>\n",
              "</table>\n",
              "</div>\n",
              "    <div class=\"colab-df-buttons\">\n",
              "\n",
              "  <div class=\"colab-df-container\">\n",
              "    <button class=\"colab-df-convert\" onclick=\"convertToInteractive('df-d7e46f06-2b7f-45ee-89cd-a47b13331d5a')\"\n",
              "            title=\"Convert this dataframe to an interactive table.\"\n",
              "            style=\"display:none;\">\n",
              "\n",
              "  <svg xmlns=\"http://www.w3.org/2000/svg\" height=\"24px\" viewBox=\"0 -960 960 960\">\n",
              "    <path d=\"M120-120v-720h720v720H120Zm60-500h600v-160H180v160Zm220 220h160v-160H400v160Zm0 220h160v-160H400v160ZM180-400h160v-160H180v160Zm440 0h160v-160H620v160ZM180-180h160v-160H180v160Zm440 0h160v-160H620v160Z\"/>\n",
              "  </svg>\n",
              "    </button>\n",
              "\n",
              "  <style>\n",
              "    .colab-df-container {\n",
              "      display:flex;\n",
              "      gap: 12px;\n",
              "    }\n",
              "\n",
              "    .colab-df-convert {\n",
              "      background-color: #E8F0FE;\n",
              "      border: none;\n",
              "      border-radius: 50%;\n",
              "      cursor: pointer;\n",
              "      display: none;\n",
              "      fill: #1967D2;\n",
              "      height: 32px;\n",
              "      padding: 0 0 0 0;\n",
              "      width: 32px;\n",
              "    }\n",
              "\n",
              "    .colab-df-convert:hover {\n",
              "      background-color: #E2EBFA;\n",
              "      box-shadow: 0px 1px 2px rgba(60, 64, 67, 0.3), 0px 1px 3px 1px rgba(60, 64, 67, 0.15);\n",
              "      fill: #174EA6;\n",
              "    }\n",
              "\n",
              "    .colab-df-buttons div {\n",
              "      margin-bottom: 4px;\n",
              "    }\n",
              "\n",
              "    [theme=dark] .colab-df-convert {\n",
              "      background-color: #3B4455;\n",
              "      fill: #D2E3FC;\n",
              "    }\n",
              "\n",
              "    [theme=dark] .colab-df-convert:hover {\n",
              "      background-color: #434B5C;\n",
              "      box-shadow: 0px 1px 3px 1px rgba(0, 0, 0, 0.15);\n",
              "      filter: drop-shadow(0px 1px 2px rgba(0, 0, 0, 0.3));\n",
              "      fill: #FFFFFF;\n",
              "    }\n",
              "  </style>\n",
              "\n",
              "    <script>\n",
              "      const buttonEl =\n",
              "        document.querySelector('#df-d7e46f06-2b7f-45ee-89cd-a47b13331d5a button.colab-df-convert');\n",
              "      buttonEl.style.display =\n",
              "        google.colab.kernel.accessAllowed ? 'block' : 'none';\n",
              "\n",
              "      async function convertToInteractive(key) {\n",
              "        const element = document.querySelector('#df-d7e46f06-2b7f-45ee-89cd-a47b13331d5a');\n",
              "        const dataTable =\n",
              "          await google.colab.kernel.invokeFunction('convertToInteractive',\n",
              "                                                    [key], {});\n",
              "        if (!dataTable) return;\n",
              "\n",
              "        const docLinkHtml = 'Like what you see? Visit the ' +\n",
              "          '<a target=\"_blank\" href=https://colab.research.google.com/notebooks/data_table.ipynb>data table notebook</a>'\n",
              "          + ' to learn more about interactive tables.';\n",
              "        element.innerHTML = '';\n",
              "        dataTable['output_type'] = 'display_data';\n",
              "        await google.colab.output.renderOutput(dataTable, element);\n",
              "        const docLink = document.createElement('div');\n",
              "        docLink.innerHTML = docLinkHtml;\n",
              "        element.appendChild(docLink);\n",
              "      }\n",
              "    </script>\n",
              "  </div>\n",
              "\n",
              "\n",
              "    <div id=\"df-046250a2-43af-4cd6-8437-12c1efd2f29f\">\n",
              "      <button class=\"colab-df-quickchart\" onclick=\"quickchart('df-046250a2-43af-4cd6-8437-12c1efd2f29f')\"\n",
              "                title=\"Suggest charts\"\n",
              "                style=\"display:none;\">\n",
              "\n",
              "<svg xmlns=\"http://www.w3.org/2000/svg\" height=\"24px\"viewBox=\"0 0 24 24\"\n",
              "     width=\"24px\">\n",
              "    <g>\n",
              "        <path d=\"M19 3H5c-1.1 0-2 .9-2 2v14c0 1.1.9 2 2 2h14c1.1 0 2-.9 2-2V5c0-1.1-.9-2-2-2zM9 17H7v-7h2v7zm4 0h-2V7h2v10zm4 0h-2v-4h2v4z\"/>\n",
              "    </g>\n",
              "</svg>\n",
              "      </button>\n",
              "\n",
              "<style>\n",
              "  .colab-df-quickchart {\n",
              "      --bg-color: #E8F0FE;\n",
              "      --fill-color: #1967D2;\n",
              "      --hover-bg-color: #E2EBFA;\n",
              "      --hover-fill-color: #174EA6;\n",
              "      --disabled-fill-color: #AAA;\n",
              "      --disabled-bg-color: #DDD;\n",
              "  }\n",
              "\n",
              "  [theme=dark] .colab-df-quickchart {\n",
              "      --bg-color: #3B4455;\n",
              "      --fill-color: #D2E3FC;\n",
              "      --hover-bg-color: #434B5C;\n",
              "      --hover-fill-color: #FFFFFF;\n",
              "      --disabled-bg-color: #3B4455;\n",
              "      --disabled-fill-color: #666;\n",
              "  }\n",
              "\n",
              "  .colab-df-quickchart {\n",
              "    background-color: var(--bg-color);\n",
              "    border: none;\n",
              "    border-radius: 50%;\n",
              "    cursor: pointer;\n",
              "    display: none;\n",
              "    fill: var(--fill-color);\n",
              "    height: 32px;\n",
              "    padding: 0;\n",
              "    width: 32px;\n",
              "  }\n",
              "\n",
              "  .colab-df-quickchart:hover {\n",
              "    background-color: var(--hover-bg-color);\n",
              "    box-shadow: 0 1px 2px rgba(60, 64, 67, 0.3), 0 1px 3px 1px rgba(60, 64, 67, 0.15);\n",
              "    fill: var(--button-hover-fill-color);\n",
              "  }\n",
              "\n",
              "  .colab-df-quickchart-complete:disabled,\n",
              "  .colab-df-quickchart-complete:disabled:hover {\n",
              "    background-color: var(--disabled-bg-color);\n",
              "    fill: var(--disabled-fill-color);\n",
              "    box-shadow: none;\n",
              "  }\n",
              "\n",
              "  .colab-df-spinner {\n",
              "    border: 2px solid var(--fill-color);\n",
              "    border-color: transparent;\n",
              "    border-bottom-color: var(--fill-color);\n",
              "    animation:\n",
              "      spin 1s steps(1) infinite;\n",
              "  }\n",
              "\n",
              "  @keyframes spin {\n",
              "    0% {\n",
              "      border-color: transparent;\n",
              "      border-bottom-color: var(--fill-color);\n",
              "      border-left-color: var(--fill-color);\n",
              "    }\n",
              "    20% {\n",
              "      border-color: transparent;\n",
              "      border-left-color: var(--fill-color);\n",
              "      border-top-color: var(--fill-color);\n",
              "    }\n",
              "    30% {\n",
              "      border-color: transparent;\n",
              "      border-left-color: var(--fill-color);\n",
              "      border-top-color: var(--fill-color);\n",
              "      border-right-color: var(--fill-color);\n",
              "    }\n",
              "    40% {\n",
              "      border-color: transparent;\n",
              "      border-right-color: var(--fill-color);\n",
              "      border-top-color: var(--fill-color);\n",
              "    }\n",
              "    60% {\n",
              "      border-color: transparent;\n",
              "      border-right-color: var(--fill-color);\n",
              "    }\n",
              "    80% {\n",
              "      border-color: transparent;\n",
              "      border-right-color: var(--fill-color);\n",
              "      border-bottom-color: var(--fill-color);\n",
              "    }\n",
              "    90% {\n",
              "      border-color: transparent;\n",
              "      border-bottom-color: var(--fill-color);\n",
              "    }\n",
              "  }\n",
              "</style>\n",
              "\n",
              "      <script>\n",
              "        async function quickchart(key) {\n",
              "          const quickchartButtonEl =\n",
              "            document.querySelector('#' + key + ' button');\n",
              "          quickchartButtonEl.disabled = true;  // To prevent multiple clicks.\n",
              "          quickchartButtonEl.classList.add('colab-df-spinner');\n",
              "          try {\n",
              "            const charts = await google.colab.kernel.invokeFunction(\n",
              "                'suggestCharts', [key], {});\n",
              "          } catch (error) {\n",
              "            console.error('Error during call to suggestCharts:', error);\n",
              "          }\n",
              "          quickchartButtonEl.classList.remove('colab-df-spinner');\n",
              "          quickchartButtonEl.classList.add('colab-df-quickchart-complete');\n",
              "        }\n",
              "        (() => {\n",
              "          let quickchartButtonEl =\n",
              "            document.querySelector('#df-046250a2-43af-4cd6-8437-12c1efd2f29f button');\n",
              "          quickchartButtonEl.style.display =\n",
              "            google.colab.kernel.accessAllowed ? 'block' : 'none';\n",
              "        })();\n",
              "      </script>\n",
              "    </div>\n",
              "\n",
              "    </div>\n",
              "  </div>\n"
            ],
            "application/vnd.google.colaboratory.intrinsic+json": {
              "type": "dataframe",
              "variable_name": "qa_df",
              "summary": "{\n  \"name\": \"qa_df\",\n  \"rows\": 342,\n  \"fields\": [\n    {\n      \"column\": \"input_text\",\n      \"properties\": {\n        \"dtype\": \"string\",\n        \"num_unique_values\": 341,\n        \"samples\": [\n          \"question: How do the colonial forces, led by Waitina, treat the villagers, and what is the reaction of the African soldiers?\",\n          \"question: How does the judge's repeated refrain-\\\"Was the accused coming in to surrender and bringing his weapons for that purpose?\\\"-function symbolically in the closing argument?\",\n          \"question: How do the Crown witnesses frame Kimathi's movements as inconsistent with surrender?\"\n        ],\n        \"semantic_type\": \"\",\n        \"description\": \"\"\n      }\n    },\n    {\n      \"column\": \"target_text\",\n      \"properties\": {\n        \"dtype\": \"string\",\n        \"num_unique_values\": 342,\n        \"samples\": [\n          \"They were called by aircraft to attend a meeting at Chinga to discuss surrender.\",\n          \"The judge's refrain serves as a rhetorical anchor around which the entire trial narrative pivots. Symbolically, it casts Kimathi's intent as the defining moral and legal issue-was he a warrior laying down arms in good faith or a dangerous rebel continuing resistance? This question transcends legal evidence, dramatizing Kimathi's role in the national imagination: not merely whether he broke the law, but whether he sought peace or remained defiant to the end.\",\n          \"The witnesses consistently testify that Kimathi dropped his load and fled when challenged, attempted multiple evasions, and never signaled peaceful intent. The judge highlights that if Kimathi truly meant to surrender, he could have called out or raised his hands. This portrayal reinforces the Crown's argument that he remained an active insurgent.\"\n        ],\n        \"semantic_type\": \"\",\n        \"description\": \"\"\n      }\n    }\n  ]\n}"
            }
          },
          "metadata": {},
          "execution_count": 17
        }
      ]
    }
  ]
}